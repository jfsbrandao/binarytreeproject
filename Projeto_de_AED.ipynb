{
  "nbformat": 4,
  "nbformat_minor": 0,
  "metadata": {
    "colab": {
      "name": "Projeto de AED.ipynb",
      "provenance": [],
      "collapsed_sections": []
    },
    "kernelspec": {
      "name": "python3",
      "display_name": "Python 3"
    }
  },
  "cells": [
    {
      "cell_type": "code",
      "metadata": {
        "id": "zj1KyzCI4Es0"
      },
      "source": [
        "import matplotlib.pyplot as plt\n",
        "import networkx as nx\n",
        "import time \n",
        "import random"
      ],
      "execution_count": null,
      "outputs": []
    },
    {
      "cell_type": "markdown",
      "metadata": {
        "id": "c8f5egaAnybT"
      },
      "source": [
        "#Função para plotar uma árvore:"
      ]
    },
    {
      "cell_type": "code",
      "metadata": {
        "id": "bA3wYce8yoKp"
      },
      "source": [
        "def hierarchy_pos(G, root=None , width =1.0 , vertgap =0.2 , vertloc =0, xcenter = 0.5):\n",
        "  if not nx.is_tree(G):\n",
        "    raise TypeError('cannot_use_hierarchy_pos_on_a_graph_that_is_not_a_tree')\n",
        "  if root is None :\n",
        "    if isinstance(G, nx.DiGraph):\n",
        "      root = nex(iter(nx.topologicalsort(G)))\n",
        "    else:\n",
        "      root = random.choice(list(G.nodes))\n",
        "\n",
        "  def _hierarchy_pos(G,root,width =1.,vertgap =0.2,vertloc =0,xcenter =0.5,pos=None,parent=None ) :\n",
        "    if pos is None :\n",
        "      pos = {root:(xcenter,vertloc)}\n",
        "    else :\n",
        "      pos[root] = (xcenter,vertloc)\n",
        "    children = list(G.neighbors(root))\n",
        "    if not isinstance(G,nx.DiGraph ) and parent is not None :\n",
        "      children.remove(parent)\n",
        "    if len(children) != 0:\n",
        "      dx = width/len(children)\n",
        "      nextx = xcenter -(width/2) -(dx/2)\n",
        "      for child in children:\n",
        "        nextx += dx\n",
        "        pos = _hierarchy_pos(G,child,width = dx ,vertgap = vertgap,vertloc = vertloc -vertgap,xcenter = nextx,pos=pos ,parent = root)\n",
        "\n",
        "    return pos\n",
        "\n",
        "  return _hierarchy_pos(G,root,width,vertgap,vertloc,xcenter)"
      ],
      "execution_count": null,
      "outputs": []
    },
    {
      "cell_type": "markdown",
      "metadata": {
        "id": "N22OS5Bn34bb"
      },
      "source": [
        "#Árvore Binária:"
      ]
    },
    {
      "cell_type": "code",
      "metadata": {
        "id": "7DVpy-AA3-Gy"
      },
      "source": [
        "class Node:\n",
        "    def __init__(self,data):\n",
        "        self.data = data\n",
        "        self.left = None\n",
        "        self.right = None\n",
        "       \n",
        "    def __str__(self):\n",
        "        return str(self.data)\n",
        "    \n",
        "    def incluir(self, valor):\n",
        "      if (self.left is None):\n",
        "        self.left = Node(valor)\n",
        "      elif (self.right is None):\n",
        "        self.right = Node(valor)\n",
        "      else:\n",
        "        self.left.incluir(valor)\n",
        "    \n",
        "    def busca(self, valor):\n",
        "      if (self.data == valor or self.left.data == valor or self.right.data == valor):\n",
        "        return True\n",
        "      else:\n",
        "        aux=self.left\n",
        "        while(aux is not None):\n",
        "          if(aux.left is None or aux.right is None):\n",
        "            return False\n",
        "          elif (aux.data == valor or aux.left.data == valor or aux.right.data == valor):\n",
        "            return True\n",
        "          else:\n",
        "            aux=aux.left\n",
        "        return False\n",
        "\n",
        "class Arvore_Binaria:\n",
        "    def __init__(self,data=None):\n",
        "        if data:\n",
        "          node = Node(data)\n",
        "          self.root = node\n",
        "        else:\n",
        "          self.root = None\n",
        "\n",
        "    #percorrendo a arvore da esquerda para direita de cima para baixo\n",
        "    def percurso_simetrico(self,node = None):\n",
        "        if node is None:\n",
        "            node = self.root\n",
        "        if node.left:\n",
        "            print('(',end='')\n",
        "            self.percurso_simetrico(node.left)\n",
        "        print(node,end=' ')\n",
        "        if node.right:\n",
        "            self.percurso_simetrico(node.right)\n",
        "            print(')',end='')\n",
        "\n",
        "    #Percorrendo a árvore primeiro pelo ramo da esquerda depois o ramo da direita\n",
        "    #No ramo da esquerda,ele analisa primeiro os elementos da esquerda depois os da direita,depois ele volta ate a raiz e vai para o ramo da direita\n",
        "    #No ramo da direita,ele analisa primeiro os elementos da esquerda depois os da direita,depois ele volta ate a raiz\n",
        "    def percurso_pos_ordem(self,node = None):\n",
        "        if node is None:\n",
        "            node = self.root\n",
        "        if node.left:\n",
        "            self.percurso_pos_ordem(node.left)\n",
        "        if node.right:\n",
        "            self.percurso_pos_ordem(node.right)\n",
        "        print(node)\n",
        "\n",
        "    def altura(self,node = None):\n",
        "        if node is None:\n",
        "            node = self.root\n",
        "        hleft = 0\n",
        "        hright = 0\n",
        "        if node.left:\n",
        "            hleft = self.altura(node.left)\n",
        "        if node.right:\n",
        "            hright = self.altura(node.right)\n",
        "        if hright > hleft:\n",
        "            return hright + 1\n",
        "        return hleft + 1\n",
        "\n",
        "\n",
        "    def inserir(self,valor):\n",
        "      if self.root is None:\n",
        "        self.root = Node(valor)\n",
        "      else:\n",
        "        if(self.root.left is None):\n",
        "          self.root.left = Node(valor)\n",
        "        elif(self.root.right is None):\n",
        "          self.root.right = Node(valor)\n",
        "        else:\n",
        "          self.root.left.incluir(valor)\n",
        "\n",
        "    def buscar(self, valor):\n",
        "        if (self.root.data == valor):\n",
        "          return True\n",
        "        if (self.root.left.data == valor or self.root.right.data == valor):\n",
        "          return True\n",
        "        else:\n",
        "          a=self.root.left.busca(valor)\n",
        "          return a\n",
        "\n",
        "    def altura(self,node = None):\n",
        "        if node is None:\n",
        "            node = self.root\n",
        "        hleft = 0\n",
        "        hright = 0\n",
        "        if node.left:\n",
        "            hleft = self.altura(node.left)\n",
        "        if node.right:\n",
        "            hright = self.altura(node.right)\n",
        "        if hright > hleft:\n",
        "            return hright + 1\n",
        "        return hleft + 1"
      ],
      "execution_count": null,
      "outputs": []
    },
    {
      "cell_type": "markdown",
      "metadata": {
        "id": "zZAMSt7Q3rpJ"
      },
      "source": [
        "#Árvore Binária de Busca:"
      ]
    },
    {
      "cell_type": "code",
      "metadata": {
        "id": "GNqkYb_z33hQ"
      },
      "source": [
        "class Arvore_Binaria_de_Busca(Arvore_Binaria):\n",
        "    def inserir(self,valor):\n",
        "        parente = None\n",
        "        aux = self.root\n",
        "        while(aux):\n",
        "            parente = aux\n",
        "            if valor < aux.data:\n",
        "                aux = aux.left\n",
        "            else:\n",
        "                aux = aux.right\n",
        "\n",
        "        if parente is None:\n",
        "            self.root = Node(valor)\n",
        "        elif valor < parente.data:\n",
        "            parente.left = Node(valor)\n",
        "        else:\n",
        "            parente.right = Node(valor)\n",
        "\n",
        "    def buscar(self,valor):\n",
        "        return self._buscar(valor,self.root)\n",
        "\n",
        "    def _buscar(self,valor,node):\n",
        "        if node is None:\n",
        "            return node\n",
        "        if node.data == valor:\n",
        "            return Arvore_Binaria(node)\n",
        "        if valor < node.data:\n",
        "            return self._buscar(valor,node.left)\n",
        "        return self._buscar(valor,node.right)\n",
        "\n",
        "    '''def buscar(self,valor,node = 0):\n",
        "        if node == 0:\n",
        "            node = self.root\n",
        "        if node is None or node.data == valor:\n",
        "            return Arvore_Binaria(valor)\n",
        "        if valor < node.data:\n",
        "            return self.buscar(valor,node.left)\n",
        "\n",
        "        return self.buscar(valor,node.right)'''"
      ],
      "execution_count": null,
      "outputs": []
    },
    {
      "cell_type": "markdown",
      "metadata": {
        "id": "N7nqaXrX3Qro"
      },
      "source": [
        "#Árvore AVL:"
      ]
    },
    {
      "cell_type": "code",
      "metadata": {
        "id": "ObZSW6rZ2pxA"
      },
      "source": [
        "class Node1:\n",
        "    def __init__(self,data = None):\n",
        "        self.data = data\n",
        "        self.left = None\n",
        "        self.right = None\n",
        "        self.parent = None\n",
        "        self.altura = 1\n",
        "\n",
        "class Arvore_AVL:\n",
        "    def __init__(self):\n",
        "        self.root = None\n",
        "\n",
        "    def inserir(self,data):\n",
        "        if self.root is None:\n",
        "            self.root = Node1(data)\n",
        "        else:\n",
        "            self._inserir(data,self.root)\n",
        "\n",
        "    def _inserir(self,data,node):\n",
        "        if data < node.data:\n",
        "            if node.left is None:\n",
        "                node.left = Node1(data)\n",
        "                node.left.parent = node\n",
        "                self._inspecao(node.left)\n",
        "            else:\n",
        "                self._inserir(data,node.left)\n",
        "    \n",
        "        elif data > node.data:\n",
        "            if node.right is None:\n",
        "                node.right = Node1(data)\n",
        "                node.right.parent = node\n",
        "                self._inspecao(node.right)\n",
        "            else:\n",
        "                self._inserir(data,node.right)\n",
        "    \n",
        "    def profundidade(self,data):\n",
        "        if self.root is None:\n",
        "            return None\n",
        "        else:\n",
        "            return self._profundidade(data,self.root,0)\n",
        "\n",
        "    def _profundidade(self,data,node,alt):\n",
        "        if data == node.data:\n",
        "            return alt\n",
        "        elif data < node.data and node.left != None:\n",
        "            return self._profundidade(data,node.left,alt + 1)\n",
        "        elif data > node.data and node.right != None:\n",
        "            return self._profundidade(data,node.right,alt + 1)\n",
        "\n",
        "    def altura(self,node = None):\n",
        "        if node.data != None:\n",
        "            return self._altura(node,0)\n",
        "        if self.root != None:\n",
        "            return self._altura(self.root,0)\n",
        "        else:\n",
        "            return 0\n",
        "\n",
        "    def _altura(self,node,alt):\n",
        "        if node is None:\n",
        "            return alt\n",
        "        alt_esq = self._altura(node.left,alt + 1)\n",
        "        alt_dir = self._altura(node.right,alt + 1)\n",
        "        return max(alt_esq,alt_dir)\n",
        "\n",
        "    def _inspecao(self,node,lista = []):\n",
        "        if node.parent is None: \n",
        "          return \n",
        "        lista = [node] + lista\n",
        "        \n",
        "        left_altura = self.get_altura(node.parent.left)\n",
        "        right_altura = self.get_altura(node.parent.right)\n",
        "\n",
        "        if abs(left_altura - right_altura) > 1:\n",
        "            lista = [node.parent] + lista\n",
        "            self._balanco(lista[0],lista[1],lista[2])\n",
        "        \n",
        "        nova_altura = 1 + node.altura\n",
        "        if node.parent is None:\n",
        "          return\n",
        "        elif nova_altura > node.parent.altura:\n",
        "            node.parent.altura = nova_altura\n",
        "        \n",
        "        self._inspecao(node.parent,lista)\n",
        "\n",
        "    def _balanco(self,node1,node2,node3):\n",
        "        if node2 == node1.left and node3 == node2.left:\n",
        "            self._rotacao_direita(node1)\n",
        "        elif node2 == node1.left and node3 == node2.right:\n",
        "            self._rotacao_esquerda(node2)\n",
        "            self._rotacao_direita(node1)\n",
        "        elif node2 == node1.right and node3 == node2.right:\n",
        "            self._rotacao_esquerda(node1)\n",
        "        elif node2 == node1.right and node3 == node2.left:\n",
        "            self._rotacao_direita(node2)\n",
        "            self._rotacao_esquerda(node1)\n",
        "\n",
        "\n",
        "    def _rotacao_direita(self,node):\n",
        "        sub_root = node.parent\n",
        "        y = node.left\n",
        "        t3 = y.right\n",
        "        y.right = node\n",
        "        node.parent = y\n",
        "        node.left = t3\n",
        "        if t3 != None:\n",
        "            t3.parent = node\n",
        "        y.parent = sub_root\n",
        "        if y.parent is None:\n",
        "            self.root = y\n",
        "        else:\n",
        "            if y.parent.left == node:\n",
        "                y.parent.left = y\n",
        "            else:\n",
        "                y.parent.right = y\n",
        "        node.altura = 1 + max(self.get_altura(node.left), self.get_altura(node.right))\n",
        "        y.altura = 1 + max(self.get_altura(y.left),self.get_altura(y.right))\n",
        "\n",
        "    def _rotacao_esquerda(self,node):\n",
        "        sub_root = node.parent\n",
        "        y = node.right\n",
        "        t2 = y.left\n",
        "        y.left = node\n",
        "        node.parent = y\n",
        "        node.right = t2\n",
        "        if t2 != None:\n",
        "            t2.parent = node\n",
        "        y.parent = sub_root\n",
        "        if y.parent is None:\n",
        "            self.root = y\n",
        "        else:\n",
        "            if y.parent.left == node:\n",
        "                y.parent.left = y\n",
        "            else:\n",
        "                y.parent.right = y\n",
        "        node.altura = 1 + max(self.get_altura(node.left),self.get_altura(node.right))\n",
        "        y.altura = 1 + max(self.get_altura(y.left),self.get_altura(y.right))\n",
        "\n",
        "    def get_altura(self,node):\n",
        "        if node is None: \n",
        "            return 0\n",
        "        else:\n",
        "            return node.altura\n",
        "\n",
        "    def buscar(self,valor):\n",
        "        return self._buscar(valor,self.root)\n",
        "\n",
        "    def _buscar(self,valor,node):\n",
        "        if node is None:\n",
        "            return node\n",
        "        if node.data == valor:\n",
        "            return Arvore_Binaria(node)\n",
        "        if valor < node.data:\n",
        "            return self._buscar(valor,node.left)\n",
        "        return self._buscar(valor,node.right)"
      ],
      "execution_count": null,
      "outputs": []
    },
    {
      "cell_type": "markdown",
      "metadata": {
        "id": "IJjDilqsEHt3"
      },
      "source": [
        "#Testes\n"
      ]
    },
    {
      "cell_type": "markdown",
      "metadata": {
        "id": "ExXkVtwKESvR"
      },
      "source": [
        "Construção das tabelas com os valores"
      ]
    },
    {
      "cell_type": "code",
      "metadata": {
        "id": "o5mkfmr7EkYb"
      },
      "source": [
        "#@title Numeros a serem inseridos\n",
        "p1 = \"1,2,3,4,5,6,7,8,9\" #@param {type:\"string\"}"
      ],
      "execution_count": null,
      "outputs": []
    },
    {
      "cell_type": "code",
      "metadata": {
        "id": "WJcz3bFsEGRW",
        "colab": {
          "base_uri": "https://localhost:8080/",
          "height": 34
        },
        "outputId": "bdbc8b3f-4e81-49be-8939-c67448171a60"
      },
      "source": [
        "lista=[]\n",
        "p12=p1.split(\",\")\n",
        "for i in p12:\n",
        "  lista.append(int(i))\n",
        "print(lista)"
      ],
      "execution_count": null,
      "outputs": [
        {
          "output_type": "stream",
          "text": [
            "[1, 2, 3, 4, 5, 6, 7, 8, 9]\n"
          ],
          "name": "stdout"
        }
      ]
    },
    {
      "cell_type": "markdown",
      "metadata": {
        "id": "VJ00vHQ-Fp-_"
      },
      "source": [
        "Busca de valores ordenados"
      ]
    },
    {
      "cell_type": "code",
      "metadata": {
        "id": "TdsPq0FnFptX",
        "colab": {
          "base_uri": "https://localhost:8080/",
          "height": 455
        },
        "outputId": "b889838d-1c4c-4ad6-cfd7-c73633ae899c"
      },
      "source": [
        "arvorebi = Arvore_Binaria()\n",
        "for i in lista:\n",
        "  arvorebi.inserir(i)\n",
        "arvorebu = Arvore_Binaria_de_Busca()\n",
        "arvoreavl = Arvore_AVL()\n",
        "for i in lista:\n",
        "  arvorebu.inserir(i)\n",
        "  arvoreavl.inserir(i)\n",
        "\n",
        "inicio1=time.time()\n",
        "arvorebi.buscar(5)\n",
        "fim1=time.time()\n",
        "inicio2=time.time()\n",
        "arvorebu.buscar(5)\n",
        "fim2=time.time()\n",
        "inicio3=time.time()\n",
        "arvoreavl.buscar(5)\n",
        "fim3=time.time()\n",
        "\n",
        "print(\"Tempo de busca de valores ordenados na arvore binaria: \"+str((fim1-inicio1)*1000)+\" milissegundos!\")\n",
        "print(\"Tempo de busca de valores ordenados na arvore binaria de busca: \"+str((fim2-inicio2)*1000)+\" milissegundos!\")\n",
        "print(\"Tempo de busca de valores ordenados na arvore AVL: \"+str((fim3-inicio3)*1000)+\" milissegundos!\")\n",
        "print(\"Melhor arvore: arvore AVL!\\n\\n\\n\")\n",
        "print(\"Representacao grafica da arvore Avl:\")\n",
        "G=nx.Graph( )\n",
        "G.add_edges_from( [ ( 4 , 2 ) , ( 4 , 6 ) , ( 2 , 1 ) , ( 2 , 3 ), (6, 5), (6,8), (8,7),(8,9)] )\n",
        "pos = hierarchy_pos(G,4)\n",
        "nx.draw(G,pos=pos,with_labels=True)"
      ],
      "execution_count": null,
      "outputs": [
        {
          "output_type": "stream",
          "text": [
            "Tempo de busca de valores ordenados na arvore binaria: 0.04935264587402344 milissegundos!\n",
            "Tempo de busca de valores ordenados na arvore binaria de busca: 0.06008148193359375 milissegundos!\n",
            "Tempo de busca de valores ordenados na arvore AVL: 0.04124641418457031 milissegundos!\n",
            "Melhor arvore: arvore AVL!\n",
            "\n",
            "\n",
            "\n",
            "Representacao grafica da arvore Avl:\n"
          ],
          "name": "stdout"
        },
        {
          "output_type": "display_data",
          "data": {
            "image/png": "[encoded data removed]",
            "text/plain": [
              "<Figure size 432x288 with 1 Axes>"
            ]
          },
          "metadata": {
            "tags": []
          }
        }
      ]
    },
    {
      "cell_type": "markdown",
      "metadata": {
        "id": "SSEvSpHt8VOW"
      },
      "source": [
        "Inserção de valores ordenados"
      ]
    },
    {
      "cell_type": "code",
      "metadata": {
        "id": "gcbxHVj18dyQ",
        "colab": {
          "base_uri": "https://localhost:8080/",
          "height": 455
        },
        "outputId": "4231fb34-9c0c-40bd-aeb2-38d0fdd16e75"
      },
      "source": [
        "arvorebi2 = Arvore_Binaria()\n",
        "inicioabi2=time.time()\n",
        "for i in lista:\n",
        "  arvorebi2.inserir(i)\n",
        "fimabi2=time.time()\n",
        "arvorebu2 = Arvore_Binaria_de_Busca()\n",
        "arvoreavl2 = Arvore_AVL()\n",
        "inicioabu2=time.time()\n",
        "for i in lista:\n",
        "  arvorebu2.inserir(i)\n",
        "fimabu2=time.time()\n",
        "for i in lista:\n",
        "  arvoreavl2.inserir(i)\n",
        "fimavl2=time.time()\n",
        "\n",
        "print(\"Tempo de insercao de valores ordenados na arvore binaria: \"+str((fimabi2-inicioabi2)*1000)+\" milissegundos!\")\n",
        "print(\"Tempo de insercao de valores ordenados na arvore binaria de busca: \"+str((fimabu2-inicioabu2)*1000)+\" milissegundos!\")\n",
        "print(\"Tempo de insercao de valores ordenados na arvore AVL: \"+str((fimavl2-fimabu2)*1000)+\" milissegundos!\")\n",
        "print(\"Melhor arvore: arvore binaria de busca!\\n\\n\\n\")\n",
        "print(\"Representacao grafica da arvore binaria de busca:\")\n",
        "G=nx.Graph( )\n",
        "G.add_edges_from( [ ( 1 , 2 ) , ( 2 , 3 ) , ( 3 , 4 ) , ( 4 , 5 ), (5, 6), (6,7), (7,8),(8,9)] )\n",
        "pos = hierarchy_pos(G,1)\n",
        "nx.draw(G,pos=pos,with_labels=True)"
      ],
      "execution_count": null,
      "outputs": [
        {
          "output_type": "stream",
          "text": [
            "Tempo de insercao de valores ordenados na arvore binaria: 0.08344650268554688 milissegundos!\n",
            "Tempo de insercao de valores ordenados na arvore binaria de busca: 0.07867813110351562 milissegundos!\n",
            "Tempo de insercao de valores ordenados na arvore AVL: 0.15306472778320312 milissegundos!\n",
            "Melhor arvore: arvore binaria de busca!\n",
            "\n",
            "\n",
            "\n",
            "Representacao grafica da arvore binaria de busca:\n"
          ],
          "name": "stdout"
        },
        {
          "output_type": "display_data",
          "data": {
            "image/png": "[encoded data removed]",
            "text/plain": [
              "<Figure size 432x288 with 1 Axes>"
            ]
          },
          "metadata": {
            "tags": []
          }
        }
      ]
    },
    {
      "cell_type": "markdown",
      "metadata": {
        "id": "gVBktMdF9lwn"
      },
      "source": [
        "Inserção valores aleatórios"
      ]
    },
    {
      "cell_type": "code",
      "metadata": {
        "id": "IcM4C8tK-SFg",
        "colab": {
          "base_uri": "https://localhost:8080/",
          "height": 455
        },
        "outputId": "dff6eeb3-0e17-4af5-9e8c-a3e19aa1f595"
      },
      "source": [
        "arvorebi3 = Arvore_Binaria()\n",
        "arvorebu3 = Arvore_Binaria_de_Busca()\n",
        "arvoreavl3 = Arvore_AVL()\n",
        "lista3=[4, 0, 3, 16, 17, 12, 11, 15, 10, 5, 18, 8, 13, 2, 19, 14, 1, 6, 7, 9]\n",
        "iniciobi3=time.time()\n",
        "for i in lista3:\n",
        "  arvorebi3.inserir(i)\n",
        "fimbi3=time.time()\n",
        "iniciobu3=time.time()\n",
        "for i in lista3:\n",
        "  arvorebu3.inserir(i)\n",
        "fimbu3=time.time()\n",
        "inicioavl3=time.time()\n",
        "for i in lista3:\n",
        "  arvoreavl3.inserir(i)\n",
        "fimavl3=time.time()\n",
        "\n",
        "print(\"Tempo da insercao na arvore binaria: \"+str((fimbi3-iniciobi3)*1000)+\" milissegundos!\")\n",
        "print(\"Tempo da insercao na arvore binaria de busca: \"+str((fimbu3-iniciobu3)*1000)+\" milissegundos!\")\n",
        "print(\"Tempo da insercao na arvore AVL: \"+str((fimavl3-inicioavl3)*1000)+\" milissegundos!\")\n",
        "print(\"Melhor arvore: arvore binaria!\\n\\n\\n\")\n",
        "print(\"Representacao grafica da arvore binaria:\")\n",
        "G=nx.Graph( )\n",
        "G.add_edges_from( [ ( 4 , 0 ) , ( 4 , 3 ) , ( 0 , 16 ) , ( 0 , 17 ), (16, 12), (16,11), (12,15),(12,10), (15,5), (15,18),(5,8),(5,13),(8,2),(8,19),(2,14),(2,1),(14,6),(14,7),(6,9)] )\n",
        "pos = hierarchy_pos(G,4)\n",
        "nx.draw(G,pos=pos,with_labels=True)"
      ],
      "execution_count": null,
      "outputs": [
        {
          "output_type": "stream",
          "text": [
            "Tempo da insercao na arvore binaria: 0.07343292236328125 milissegundos!\n",
            "Tempo da insercao na arvore binaria de busca: 0.19431114196777344 milissegundos!\n",
            "Tempo da insercao na arvore AVL: 0.18262863159179688 milissegundos!\n",
            "Melhor arvore: arvore binaria!\n",
            "\n",
            "\n",
            "\n",
            "Representacao grafica da arvore binaria:\n"
          ],
          "name": "stdout"
        },
        {
          "output_type": "display_data",
          "data": {
            "image/png": "[encoded data removed]",
            "text/plain": [
              "<Figure size 432x288 with 1 Axes>"
            ]
          },
          "metadata": {
            "tags": []
          }
        }
      ]
    }
  ]
}